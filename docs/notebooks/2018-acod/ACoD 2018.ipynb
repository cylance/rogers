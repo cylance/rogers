{
 "cells": [
  {
   "cell_type": "code",
   "execution_count": null,
   "metadata": {},
   "outputs": [],
   "source": [
    "import numpy as np\n",
    "import scipy.spatial.distance as distance\n",
    "import sklearn.metrics.pairwise as pairwise\n",
    "import sklearn.metrics as metrics\n",
    "import pandas as pd\n",
    "import plotly\n",
    "import plotly.offline as py\n",
    "\n",
    "from rogers.logger import init_logging, get_logger\n",
    "\n",
    "import rogers as r\n",
    "\n",
    "plotly.offline.init_notebook_mode()\n",
    "\n",
    "%matplotlib inline"
   ]
  },
  {
   "cell_type": "markdown",
   "metadata": {},
   "source": [
    "Increase max cell height for network graph visualization"
   ]
  },
  {
   "cell_type": "code",
   "execution_count": null,
   "metadata": {},
   "outputs": [],
   "source": [
    "%%html\n",
    "<style>\n",
    ".container { width:70% !important; }\n",
    ".output_wrapper, .output {\n",
    "    height:auto !important;\n",
    "    max-height:1000px;\n",
    "}\n",
    ".output_scroll {\n",
    "    box-shadow:none !important;\n",
    "    webkit-box-shadow:none !important;\n",
    "}\n",
    "</style>"
   ]
  },
  {
   "cell_type": "markdown",
   "metadata": {},
   "source": [
    "# Toy Examples\n",
    "\n",
    "| Sample | File Size (kB) | #  of export symbols | # of import symbols |# of import DLL |\n",
    "|----|-----|----|---- |----- |\n",
    "|$x_1$|100|3|10 |2 |\n",
    "|$x_2$|10234|4|4|2 |\n",
    "|$x_3$|3453|6|2 |1 | "
   ]
  },
  {
   "cell_type": "code",
   "execution_count": null,
   "metadata": {},
   "outputs": [],
   "source": [
    "x_1 = np.array([100, 3, 10, 2])\n",
    "x_2 = np.array([10234, 4, 4, 2])\n",
    "x_3 = np.array([3453, 6, 2, 1])"
   ]
  },
  {
   "cell_type": "code",
   "execution_count": null,
   "metadata": {},
   "outputs": [],
   "source": [
    "x_1"
   ]
  },
  {
   "cell_type": "code",
   "execution_count": null,
   "metadata": {},
   "outputs": [],
   "source": [
    "x_1.shape"
   ]
  },
  {
   "cell_type": "code",
   "execution_count": null,
   "metadata": {},
   "outputs": [],
   "source": [
    "pairwise.euclidean_distances([x_1, x_2, x_3])"
   ]
  },
  {
   "cell_type": "code",
   "execution_count": null,
   "metadata": {},
   "outputs": [],
   "source": [
    "pairwise.manhattan_distances([x_1, x_2, x_3])"
   ]
  },
  {
   "cell_type": "code",
   "execution_count": null,
   "metadata": {},
   "outputs": [],
   "source": [
    "pairwise.cosine_distances([x_1, x_2, x_3])"
   ]
  },
  {
   "cell_type": "code",
   "execution_count": null,
   "metadata": {},
   "outputs": [],
   "source": [
    "pairwise.cosine_similarity([x_1, x_2, x_3])"
   ]
  },
  {
   "cell_type": "code",
   "execution_count": null,
   "metadata": {},
   "outputs": [],
   "source": [
    "1 - distance.jaccard(x_1, x_2)"
   ]
  },
  {
   "cell_type": "code",
   "execution_count": null,
   "metadata": {},
   "outputs": [],
   "source": [
    "distance.jaccard(x_1, x_3)"
   ]
  },
  {
   "cell_type": "code",
   "execution_count": null,
   "metadata": {},
   "outputs": [],
   "source": [
    "distance.jaccard(x_2, x_3)"
   ]
  },
  {
   "cell_type": "markdown",
   "metadata": {},
   "source": [
    "# Command Line Usage"
   ]
  },
  {
   "cell_type": "markdown",
   "metadata": {},
   "source": [
    "Install rogers, https://github.com/cylance/rogers/blob/develop/README.md#installation"
   ]
  },
  {
   "cell_type": "code",
   "execution_count": null,
   "metadata": {},
   "outputs": [],
   "source": [
    "! rogers -h"
   ]
  },
  {
   "cell_type": "markdown",
   "metadata": {},
   "source": [
    "# Index\n",
    "\n",
    "Interact with NN indexes:\n",
    "\n",
    "+ Extract raw feature data\n",
    "+ Transform data into vectors with pipeline\n",
    "+ Fit a specific NN index\n",
    "+ Query NN index"
   ]
  },
  {
   "cell_type": "code",
   "execution_count": null,
   "metadata": {},
   "outputs": [],
   "source": [
    "! rogers index -h"
   ]
  },
  {
   "cell_type": "markdown",
   "metadata": {},
   "source": [
    "Extract samples in a directory into the database"
   ]
  },
  {
   "cell_type": "code",
   "execution_count": null,
   "metadata": {},
   "outputs": [],
   "source": [
    "! rogers index --dir \"../samples/00/FD\" extract -f"
   ]
  },
  {
   "cell_type": "markdown",
   "metadata": {},
   "source": [
    "Transform samples using vectorizer pipeline"
   ]
  },
  {
   "cell_type": "code",
   "execution_count": null,
   "metadata": {},
   "outputs": [],
   "source": [
    "! rogers index transform"
   ]
  },
  {
   "cell_type": "markdown",
   "metadata": {},
   "source": [
    "Fit different indexes"
   ]
  },
  {
   "cell_type": "code",
   "execution_count": null,
   "metadata": {},
   "outputs": [],
   "source": [
    "! rogers index fit pruning_tree"
   ]
  },
  {
   "cell_type": "code",
   "execution_count": null,
   "metadata": {},
   "outputs": [],
   "source": [
    "! rogers index fit lsh_forest"
   ]
  },
  {
   "cell_type": "code",
   "execution_count": null,
   "metadata": {},
   "outputs": [],
   "source": [
    "! rogers index fit hnsw"
   ]
  },
  {
   "cell_type": "code",
   "execution_count": null,
   "metadata": {},
   "outputs": [],
   "source": [
    "! rogers index fit ctph"
   ]
  },
  {
   "cell_type": "markdown",
   "metadata": {},
   "source": [
    "Query fit index"
   ]
  },
  {
   "cell_type": "code",
   "execution_count": null,
   "metadata": {},
   "outputs": [],
   "source": [
    "! rogers --print index query lsh_forest \"4B8C17F0F8BF27755DDAADB9B33B17FFBD6F785D7833300676AD70F43334D7F4\""
   ]
  },
  {
   "cell_type": "code",
   "execution_count": null,
   "metadata": {},
   "outputs": [],
   "source": [
    "! rogers --print index query ctph \"4B8C17F0F8BF27755DDAADB9B33B17FFBD6F785D7833300676AD70F43334D7F4\""
   ]
  },
  {
   "cell_type": "code",
   "execution_count": null,
   "metadata": {},
   "outputs": [],
   "source": [
    "! rogers --print index query pruning_tree \"4B8C17F0F8BF27755DDAADB9B33B17FFBD6F785D7833300676AD70F43334D7F4\" --k 10"
   ]
  },
  {
   "cell_type": "markdown",
   "metadata": {},
   "source": [
    "# Datasets"
   ]
  },
  {
   "cell_type": "markdown",
   "metadata": {},
   "source": [
    "## Variant 2015\n",
    "\n",
    "`variant2015` is a small dataset currated specifically for comparing malware similarity tools.\n",
    "\n",
    "+ `group 1`: Ziyang RAT and were originally packed with Armadillo v1.71\n",
    "+ `group 2`: LinseningSvr and were originally packed with Armadillo or Aspack\n",
    "+ `group 3`: BeepService and were originally packed with Armadillo v1.71\n",
    "+ `group 4`: SimpleFileMover and were originally packed with Armadillo v1.71\n",
    "+ `group 5`: DD Keylogger\n",
    "+ `group 6`: PUP by McAfee and were originally packed with Armadillo v1.71 or InstallShield 2000\n",
    "+ `group 7`: Backdoors by McAfee and were originally packed with Armadillo v1.xx - v2.xx\n",
    "+ `group 8`: SvcInstaller and were originally packed with Armadillo v1.71"
   ]
  },
  {
   "cell_type": "code",
   "execution_count": null,
   "metadata": {
    "scrolled": true
   },
   "outputs": [],
   "source": [
    "variant_df = pd.read_csv(\"../datasets/variant_2015.csv\")\n",
    "print(\"Number of samples %s\" % len(variant_df))"
   ]
  },
  {
   "cell_type": "code",
   "execution_count": null,
   "metadata": {},
   "outputs": [],
   "source": [
    "variant_group_1 = variant_df[variant_df['variant_group'] == 1]['sha256'].tolist()[:5]"
   ]
  },
  {
   "cell_type": "code",
   "execution_count": null,
   "metadata": {},
   "outputs": [],
   "source": [
    "variant_df.groupby(['variant_group']).size()"
   ]
  },
  {
   "cell_type": "markdown",
   "metadata": {},
   "source": [
    "## VT Cluster Jan 2018\n",
    "\n",
    "`vtcluster_jan2018` is a moderately sized dataset pulled from the VT clusters endpoint in January 2018."
   ]
  },
  {
   "cell_type": "code",
   "execution_count": null,
   "metadata": {},
   "outputs": [],
   "source": [
    "vt_df = pd.read_csv(\"../datasets/vt_clusters_jan2018.csv\")\n",
    "print(\"Number of samples %s\" % len(vt_df))"
   ]
  },
  {
   "cell_type": "code",
   "execution_count": null,
   "metadata": {
    "scrolled": true
   },
   "outputs": [],
   "source": [
    "vt_df.groupby(['vt_cluster']).size()"
   ]
  },
  {
   "cell_type": "code",
   "execution_count": null,
   "metadata": {},
   "outputs": [],
   "source": [
    "sample_vt_df = vt_df.sample(n=100)"
   ]
  },
  {
   "cell_type": "code",
   "execution_count": null,
   "metadata": {},
   "outputs": [],
   "source": [
    "db = r.store.Database()\n",
    "\n",
    "variant_seed_samples = db.load_samples(variant_df['sha256'])\n",
    "variant_group_1_samples = db.load_samples(variant_group_1)\n",
    "vt_seed_samples = db.load_samples(sample_vt_df['sha256'])\n",
    "\n",
    "x = variant_seed_samples[0]\n",
    "x1 = vt_seed_samples[0]\n",
    "x2 = vt_seed_samples[1]"
   ]
  },
  {
   "cell_type": "markdown",
   "metadata": {},
   "source": [
    "# Features"
   ]
  },
  {
   "cell_type": "code",
   "execution_count": null,
   "metadata": {},
   "outputs": [],
   "source": [
    "x1.features"
   ]
  },
  {
   "cell_type": "code",
   "execution_count": null,
   "metadata": {},
   "outputs": [],
   "source": [
    "x2.contextual_features()"
   ]
  },
  {
   "cell_type": "code",
   "execution_count": null,
   "metadata": {},
   "outputs": [],
   "source": [
    "hnsw_idx = r.index.init('hnsw')\n",
    "hnsw_idx.load()\n",
    "\n",
    "lsh_idx = r.index.init('lsh_forest')\n",
    "lsh_idx.load()\n",
    "\n",
    "pruning_idx = r.index.init('pruning_tree')\n",
    "pruning_idx.load()\n",
    "\n",
    "ssdeep_idx = r.index.init('ctph')\n",
    "ssdeep_idx.load()\n",
    "\n",
    "brute_idx = r.index.init('bruteforce')\n",
    "brute_idx.load()"
   ]
  },
  {
   "cell_type": "markdown",
   "metadata": {},
   "source": [
    "# Vector Plots\n",
    "\n",
    "Plot vectors for `vtcluster_jan2018` to understand cosine similarity."
   ]
  },
  {
   "cell_type": "code",
   "execution_count": null,
   "metadata": {},
   "outputs": [],
   "source": [
    "from sklearn.decomposition import PCA\n",
    "import matplotlib.pyplot as plt\n",
    "from scipy import stats\n",
    "\n",
    "\n",
    "xs, _ = hnsw_idx.transform(variant_seed_samples)\n",
    "\n",
    "pca = PCA(n_components=2)\n",
    "\n",
    "xs_t = pca.fit_transform(xs)\n",
    "X, Y = zip(*np.zeros((xs_t.shape[0], 2)))\n",
    "U, V = zip(*xs_t)\n",
    "\n",
    "plt.figure()\n",
    "ax = plt.gca()\n",
    "ax.quiver(X, Y, U, V, angles='xy', scale_units='xy', scale=1)\n",
    "ax.set_xlim([-1, 1.1])\n",
    "ax.set_ylim([-1, 1])\n",
    "plt.draw()\n",
    "plt.show()"
   ]
  },
  {
   "cell_type": "markdown",
   "metadata": {},
   "source": [
    "# Index Usage"
   ]
  },
  {
   "cell_type": "code",
   "execution_count": null,
   "metadata": {},
   "outputs": [],
   "source": [
    "neighbors = lsh_idx.query_samples([x], k=5, include_neighbors=False)\n",
    "print(\"%s is in variant group %s\" % (x.sha256, x.contextual_features()['variant_group']))\n",
    "r.visualize.plt_neighbor_graph(neighbors)"
   ]
  },
  {
   "cell_type": "code",
   "execution_count": null,
   "metadata": {},
   "outputs": [],
   "source": [
    "neighbors = hnsw_idx.query_samples([x], k=5, include_neighbors=False)\n",
    "print(\"%s is in variant group %s\" % (x.sha256, x.contextual_features()['variant_group']))\n",
    "r.visualize.plt_neighbor_graph(neighbors)"
   ]
  },
  {
   "cell_type": "code",
   "execution_count": null,
   "metadata": {},
   "outputs": [],
   "source": [
    "neighbors = lsh_idx.query_samples(variant_seed_samples, k=5, include_neighbors=False)\n",
    "r.visualize.plt_neighbor_graph(neighbors)"
   ]
  },
  {
   "cell_type": "code",
   "execution_count": null,
   "metadata": {},
   "outputs": [],
   "source": [
    "neighbors = pruning_idx.query_samples(variant_seed_samples, k=5, include_neighbors=True)\n",
    "r.visualize.plt_neighbor_graph(neighbors)"
   ]
  },
  {
   "cell_type": "code",
   "execution_count": null,
   "metadata": {},
   "outputs": [],
   "source": [
    "neighbors = hnsw_idx.query_samples(variant_seed_samples, k=5, include_neighbors=True)\n",
    "r.visualize.plt_neighbor_graph(neighbors)"
   ]
  },
  {
   "cell_type": "code",
   "execution_count": null,
   "metadata": {},
   "outputs": [],
   "source": [
    "neighbors = ssdeep_idx.query_samples(variant_seed_samples, k=5, include_neighbors=True)\n",
    "r.visualize.plt_neighbor_graph(neighbors, normalize=False)"
   ]
  },
  {
   "cell_type": "code",
   "execution_count": null,
   "metadata": {},
   "outputs": [],
   "source": [
    "neighbors = ssdeep_idx.query_samples(vt_seed_samples, k=5, include_neighbors=True)\n",
    "r.visualize.plt_neighbor_graph(neighbors, normalize=False)"
   ]
  },
  {
   "cell_type": "markdown",
   "metadata": {},
   "source": [
    "# Experiment"
   ]
  },
  {
   "cell_type": "markdown",
   "metadata": {},
   "source": [
    "Precision@k is the proportion of retrieved documents that are relevant to the query over k.\n",
    "\n",
    "$Precision@k = \\frac{\\textrm{relevant} \\ \\cap \\ \\textrm{retrieved}}{k}$"
   ]
  },
  {
   "cell_type": "code",
   "execution_count": null,
   "metadata": {},
   "outputs": [],
   "source": [
    "def precision_at_k_method(method):\n",
    "    for k in (5, 10, 50, 100):\n",
    "        results = method.query_samples(list(vt_seed_samples), k=k)\n",
    "        precision_per_query = []\n",
    "        for ret in results:\n",
    "            q = ret['query']\n",
    "            neigbors = ret['neighbors']\n",
    "\n",
    "            label = str(q.contextual_features()['vt_cluster'])\n",
    "            label_key = 'vt_cluster'\n",
    "\n",
    "            relevant = 0\n",
    "\n",
    "            for nbr in neigbors:\n",
    "                nbr, _ = nbr\n",
    "                context = nbr.contextual_features()\n",
    "                if label_key in context and str(context[label_key]) == label:\n",
    "                    relevant += 1\n",
    "            precision_per_query.append(relevant / float(k))\n",
    "        print(method.name, k, np.mean(precision_per_query))"
   ]
  },
  {
   "cell_type": "code",
   "execution_count": null,
   "metadata": {},
   "outputs": [],
   "source": [
    "for method in (pruning_idx, hnsw_idx, lsh_idx, ssdeep_idx, brute_idx):\n",
    "    precision_at_k_method(method)"
   ]
  },
  {
   "cell_type": "code",
   "execution_count": null,
   "metadata": {},
   "outputs": [],
   "source": []
  }
 ],
 "metadata": {
  "kernelspec": {
   "display_name": "Python 3",
   "language": "python",
   "name": "python3"
  },
  "language_info": {
   "codemirror_mode": {
    "name": "ipython",
    "version": 3
   },
   "file_extension": ".py",
   "mimetype": "text/x-python",
   "name": "python",
   "nbconvert_exporter": "python",
   "pygments_lexer": "ipython3",
   "version": "3.6.6"
  }
 },
 "nbformat": 4,
 "nbformat_minor": 2
}
